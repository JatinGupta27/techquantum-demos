{
 "cells": [
  {
   "cell_type": "markdown",
   "metadata": {},
   "source": [
    "# Adam Optimization Algorithm"
   ]
  },
  {
   "cell_type": "markdown",
   "metadata": {},
   "source": [
    "The adaptive moment estimation algorithm is an optimization method that isused to reduce the cost of a function. It is mostly used in Machine Learning to reduce the cost function of neural networks. We will now proceed to implement an Adam optimization algorithm from scratch on a function we will create which will be similar to the one used in our earlier gradient descent algorithm from scratch tutorial. "
   ]
  },
  {
   "cell_type": "code",
   "execution_count": 1,
   "metadata": {},
   "outputs": [],
   "source": [
    "# import relevant libraries\n",
    "import numpy as np\n",
    "import matplotlib.pyplot as plt\n",
    "%matplotlib inline"
   ]
  },
  {
   "cell_type": "markdown",
   "metadata": {},
   "source": [
    "We proceed to create the function - $ f(x) = x^3-3x^2+7$"
   ]
  },
  {
   "cell_type": "code",
   "execution_count": 2,
   "metadata": {},
   "outputs": [
    {
     "data": {
      "image/png": "[encoded data removed]",
      "text/plain": [
       "<matplotlib.figure.Figure at 0x1789be9fef0>"
      ]
     },
     "metadata": {},
     "output_type": "display_data"
    }
   ],
   "source": [
    "#creating the function and plotting it \n",
    "\n",
    "function = lambda x: (x ** 3)-(3 *(x ** 2))+7\n",
    "\n",
    "#Get 1000 evenly spaced numbers between -1 and 3 (arbitratily chosen to ensure steep curve)\n",
    "x = np.linspace(-1,3,500)\n",
    "\n",
    "#Plot the curve\n",
    "plt.plot(x, function(x))\n",
    "plt.show()"
   ]
  },
  {
   "cell_type": "code",
   "execution_count": 3,
   "metadata": {},
   "outputs": [],
   "source": [
    "def deriv(x):\n",
    "    \n",
    "    '''\n",
    "    Description: This function takes in a value of x and returns its derivative based on the \n",
    "    initial function we specified.\n",
    "    \n",
    "    Arguments:\n",
    "    \n",
    "    x - a numerical value of x \n",
    "    \n",
    "    Returns:\n",
    "    \n",
    "    x_deriv - a numerical value of the derivative of x\n",
    "    \n",
    "    '''\n",
    "    \n",
    "    x_deriv = 3* (x**2) - (6 * (x))\n",
    "    return x_deriv"
   ]
  },
  {
   "cell_type": "code",
   "execution_count": 4,
   "metadata": {},
   "outputs": [],
   "source": [
    "def adam_optimizer(x_new, x_prev, precision, l_r, beta1, beta2, epsilon):\n",
    "    \n",
    "    '''\n",
    "    Description: This function takes in an initial or previous value for x, updates it based on \n",
    "    the adam optimization algorithm and outputs the most minimum value of x that reaches the precision satisfaction.\n",
    "    \n",
    "    Arguments:\n",
    "    \n",
    "    x_new - a starting value of x that will get updated based on the learning rate\n",
    "    \n",
    "    x_prev - the previous value of x that is getting updated to the new one\n",
    "    \n",
    "    precision - a precision that determines the stop of the stepwise descent \n",
    "    \n",
    "    l_r - the learning rate (size of each descent step)\n",
    "    \n",
    "    beta1 - the first moment parameter for first part of the adam optimzer - gradient descent with moment part\n",
    "    \n",
    "    beta2 - the second moment parameter for second part of the adam optimzer - RMS prop\n",
    "    \n",
    "    epsilon - a value chosen to ensure there is no division by zero if the RMS prop output is very small\n",
    "    \n",
    "    Output:\n",
    "    \n",
    "    1. Prints out the latest new value of x which equates to the minimum we are looking for\n",
    "    2. Prints out the the number of x values which equates to the number of adam optimzer steps\n",
    "    3. Plots a first graph of the function with the adam path\n",
    "    4. Plots a second graph of the function with a zoomed in adam path in the important area\n",
    "    \n",
    "    '''\n",
    "    \n",
    "    # create empty lists where the updated values of x and y will be appended during each iteration\n",
    "    \n",
    "    x_list, y_list = [x_new], [function(x_new)]\n",
    "    \n",
    "    #initialize the G.D with Momentum, RMS prop, and count values. \n",
    "    vd_x = 0\n",
    "    sd_x = 0\n",
    "    \n",
    "    # Count Value initialized to 1 to prevent zero division in bias correction\n",
    "    t = 1\n",
    "    # keep looping until your desired precision\n",
    "    while abs(x_new - x_prev) > precision:\n",
    "        \n",
    "        \n",
    "        # change the value of x\n",
    "        x_prev = x_new\n",
    "        \n",
    "        # get the derivation of the old value of the funciton with the pervious value of x\n",
    "        d_x = - deriv(x_prev)\n",
    "        \n",
    "        #peform gradient descent with momentum using beta1\n",
    "        vd_x = beta1 * vd_x + ((1-beta1) * d_x)\n",
    "            \n",
    "        \n",
    "        #Get rms prop value on the derivative using beta2\n",
    "        sd_x = beta2 * sd_x + ((1-beta2) * (d_x * d_x))\n",
    "        \n",
    "        #Add bias correction to calculated values\n",
    "        vd_x = vd_x / (1-(beta1)**t)\n",
    "        sd_x = sd_x / (1-(beta2)**t)\n",
    "        \n",
    "        #combine both RMS prop value and gradient descent momentum to get the new derivative\n",
    "        nd_x = vd_x / np.sqrt(sd_x + epsilon)\n",
    "        \n",
    "        # get your new value of x by adding the previous, the multiplication of the derivative and the learning rate\n",
    "        x_new = x_prev + (l_r * nd_x)\n",
    "        \n",
    "        # append the new value of x to a list of all x-s for later visualization of path\n",
    "        x_list.append(x_new)\n",
    "        \n",
    "        # append the new value of y to a list of all y-s for later visualization of path\n",
    "        y_list.append(function(x_new))\n",
    "        \n",
    "        #update count\n",
    "        t+=1\n",
    "        \n",
    "    # Print the local minimum and number of steps\n",
    "    print (\"Local minimum occurs at: \"+ str(x_new))\n",
    "    print (\"Number of steps: \" + str(len(x_list)))\n",
    "    \n",
    "    # Plot the steps taken by th eadam optimzer\n",
    "    plt.subplot(1,2,2)\n",
    "    plt.scatter(x_list,y_list,c=\"g\")\n",
    "    plt.plot(x_list,y_list,c=\"g\")\n",
    "    plt.plot(x,function(x), c=\"r\")\n",
    "    plt.title(\"Adam Optimizer\")\n",
    "    plt.show()\n",
    "\n",
    "    #print the zoomed in adam steps. \n",
    "    plt.subplot(1,2,1)\n",
    "    plt.scatter(x_list,y_list,c=\"g\")\n",
    "    plt.plot(x_list,y_list,c=\"g\")\n",
    "    plt.plot(x,function(x), c=\"r\")\n",
    "    plt.xlim([1.0,2.1])\n",
    "    plt.title(\"Zoomed in Adam to Key Area\")\n",
    "    plt.show()\n",
    "\n",
    "\n"
   ]
  },
  {
   "cell_type": "code",
   "execution_count": 5,
   "metadata": {},
   "outputs": [
    {
     "name": "stdout",
     "output_type": "stream",
     "text": [
      "Local minimum occurs at: 2.0931059636879263\n",
      "Number of steps: 12\n"
     ]
    },
    {
     "data": {
      "image/png": "[encoded data removed]",
      "text/plain": [
       "<matplotlib.figure.Figure at 0x1789aee81d0>"
      ]
     },
     "metadata": {},
     "output_type": "display_data"
    },
    {
     "data": {
      "image/png": "[encoded data removed]",
      "text/plain": [
       "<matplotlib.figure.Figure at 0x1789c2696a0>"
      ]
     },
     "metadata": {},
     "output_type": "display_data"
    }
   ],
   "source": [
    "'''\n",
    "Run the adam algorithm and plot output. All the values are chosen randomly. \n",
    "\n",
    "The beta1, beta2 and epsilon values are chosen according to their values in the original adam paper. \n",
    "\n",
    "Refer to the tutorial for more information\n",
    "\n",
    "''' \n",
    "\n",
    "adam_optimizer(0.5, 0, 0.001, 0.6, 0.9, 0.99, 10**-8)"
   ]
  },
  {
   "cell_type": "markdown",
   "metadata": {},
   "source": [
    "There you have it the Adam optimzer from scratch. \n",
    "\n",
    "As you can see, we can afford to set a higher learning rate than the gradient descent and obtain an optimal value in less steps"
   ]
  },
  {
   "cell_type": "code",
   "execution_count": null,
   "metadata": {},
   "outputs": [],
   "source": []
  }
 ],
 "metadata": {
  "kernelspec": {
   "display_name": "Python 3",
   "language": "python",
   "name": "python3"
  },
  "language_info": {
   "codemirror_mode": {
    "name": "ipython",
    "version": 3
   },
   "file_extension": ".py",
   "mimetype": "text/x-python",
   "name": "python",
   "nbconvert_exporter": "python",
   "pygments_lexer": "ipython3",
   "version": "3.6.3"
  }
 },
 "nbformat": 4,
 "nbformat_minor": 2
}
